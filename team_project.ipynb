{
 "cells": [
  {
   "cell_type": "code",
   "execution_count": 3,
   "metadata": {},
   "outputs": [],
   "source": [
    "from bs4 import BeautifulSoup as soup\n",
    "import numpy as np\n",
    "import pandas as pd\n",
    "import requests\n",
    "import json as js\n",
    "import os"
   ]
  },
  {
   "cell_type": "code",
   "execution_count": 7,
   "metadata": {},
   "outputs": [],
   "source": [
    "def Dump_Links_Json(links):\n",
    "    data = {\"link\": links}\n",
    "    file_path = os.path.join('D:\\\\UIT\\\\Machine_Learning\\\\project', 'official_links.json')\n",
    "    with open(file_path, 'w', encoding='utf-8') as json_file:\n",
    "        js.dump(data, json_file, ensure_ascii=False, indent=4)"
   ]
  },
  {
   "cell_type": "code",
   "execution_count": 26,
   "metadata": {},
   "outputs": [],
   "source": [
    "def dump_dish_json(title, ingredients, quantities):\n",
    "    dish_data = {}\n",
    "    for i in range(len(ingredients)):\n",
    "        dish_data[ingredients[i]] = quantities[i]\n",
    "    data = {title: dish_data}\n",
    "    file_path = os.path.join('D:\\\\UIT\\\\Machine_Learning\\\\project', 'official_dishes2.json')\n",
    "    with open(file_path, 'a', encoding='utf-8') as json_file:\n",
    "        js.dump(data, json_file, ensure_ascii=False, indent=4)\n"
   ]
  },
  {
   "cell_type": "code",
   "execution_count": 9,
   "metadata": {},
   "outputs": [],
   "source": [
    "def split_data(s):\n",
    "    try:\n",
    "        string = s.split(':')\n",
    "        if len(string) >= 2:\n",
    "            return string[0], string[1]\n",
    "        else:\n",
    "            return s, None\n",
    "    except ValueError:\n",
    "        return s, None\n"
   ]
  },
  {
   "cell_type": "code",
   "execution_count": null,
   "metadata": {},
   "outputs": [],
   "source": [
    "import requests\n",
    "from bs4 import BeautifulSoup\n",
    "\n",
    "links = []\n",
    "\n",
    "for page_number in range(2, 59):\n",
    "    url = f\"https://bepmina.vn/mon-viet/page/{page_number}\"\n",
    "\n",
    "    try:\n",
    "        response = requests.get(url)\n",
    "        response.raise_for_status()  \n",
    "\n",
    "        webpage = BeautifulSoup(response.text, 'html.parser')\n",
    "        content = webpage.find_all('a', class_=\"more-link\")\n",
    "\n",
    "        for link in content:\n",
    "            links.append(link.get('href'))\n",
    "\n",
    "    except requests.exceptions.RequestException as e:\n",
    "        print(f\"Error encountered for page {page_number}: {e}\")\n",
    "    print(page_number)\n",
    "\n"
   ]
  },
  {
   "cell_type": "code",
   "execution_count": 4,
   "metadata": {},
   "outputs": [],
   "source": [
    "with open('D:\\\\UIT\\\\Machine_Learning\\\\project\\\\official_links.json','r',encoding='utf-8') as f:\n",
    "    data = js.load(f)"
   ]
  },
  {
   "cell_type": "code",
   "execution_count": 12,
   "metadata": {},
   "outputs": [
    {
     "name": "stdout",
     "output_type": "stream",
     "text": [
      "Error encountered for page https://bepmina.vn/mon-viet/cach-lam-chan-ga-nuong-sa-te/: HTTPSConnectionPool(host='bepmina.vn', port=443): Max retries exceeded with url: /mon-viet/cach-lam-chan-ga-nuong-sa-te/ (Caused by NameResolutionError(\"<urllib3.connection.HTTPSConnection object at 0x000002B3EBF1AB10>: Failed to resolve 'bepmina.vn' ([Errno 11001] getaddrinfo failed)\"))\n",
      "Error encountered for page https://bepmina.vn/mon-viet/thuc-don-cho-me-sau-sinh/: HTTPSConnectionPool(host='bepmina.vn', port=443): Max retries exceeded with url: /mon-viet/thuc-don-cho-me-sau-sinh/ (Caused by NameResolutionError(\"<urllib3.connection.HTTPSConnection object at 0x000002B3EC77D1D0>: Failed to resolve 'bepmina.vn' ([Errno 11001] getaddrinfo failed)\"))\n",
      "Error encountered for page https://bepmina.vn/mon-viet/cach-nau-cari-bo/: HTTPSConnectionPool(host='bepmina.vn', port=443): Max retries exceeded with url: /mon-viet/cach-nau-cari-bo/ (Caused by NameResolutionError(\"<urllib3.connection.HTTPSConnection object at 0x000002B3EC77D890>: Failed to resolve 'bepmina.vn' ([Errno 11001] getaddrinfo failed)\"))\n",
      "Error encountered for page https://bepmina.vn/mon-viet/cach-lam-canh-bau-nau-tom/: HTTPSConnectionPool(host='bepmina.vn', port=443): Max retries exceeded with url: /mon-viet/cach-lam-canh-bau-nau-tom/ (Caused by NameResolutionError(\"<urllib3.connection.HTTPSConnection object at 0x000002B3EC7C7690>: Failed to resolve 'bepmina.vn' ([Errno 11001] getaddrinfo failed)\"))\n",
      "Error encountered for page https://bepmina.vn/mon-viet/cach-lam-suon-xao-chua-ngot-mien-bac/: HTTPSConnectionPool(host='bepmina.vn', port=443): Max retries exceeded with url: /mon-viet/cach-lam-suon-xao-chua-ngot-mien-bac/ (Caused by NameResolutionError(\"<urllib3.connection.HTTPSConnection object at 0x000002B3EC7C5F10>: Failed to resolve 'bepmina.vn' ([Errno 11001] getaddrinfo failed)\"))\n",
      "Error encountered for page https://bepmina.vn/mon-viet/cach-lam-thit-vien-sot-ca-chua/: HTTPSConnectionPool(host='bepmina.vn', port=443): Max retries exceeded with url: /mon-viet/cach-lam-thit-vien-sot-ca-chua/ (Caused by NameResolutionError(\"<urllib3.connection.HTTPSConnection object at 0x000002B3EC002ED0>: Failed to resolve 'bepmina.vn' ([Errno 11001] getaddrinfo failed)\"))\n",
      "Error encountered for page https://bepmina.vn/mon-viet/cach-pha-nuoc-sot-salad/: HTTPSConnectionPool(host='bepmina.vn', port=443): Max retries exceeded with url: /mon-viet/cach-pha-nuoc-sot-salad/ (Caused by NameResolutionError(\"<urllib3.connection.HTTPSConnection object at 0x000002B3EC041610>: Failed to resolve 'bepmina.vn' ([Errno 11001] getaddrinfo failed)\"))\n",
      "Error encountered for page https://bepmina.vn/mon-viet/cach-nau-ca-com-kho/: HTTPSConnectionPool(host='bepmina.vn', port=443): Max retries exceeded with url: /mon-viet/cach-nau-ca-com-kho/ (Caused by NameResolutionError(\"<urllib3.connection.HTTPSConnection object at 0x000002B3EC80EF90>: Failed to resolve 'bepmina.vn' ([Errno 11001] getaddrinfo failed)\"))\n",
      "Error encountered for page https://bepmina.vn/mon-viet/cach-nau-chao-ga-ngon-nhat/: HTTPSConnectionPool(host='bepmina.vn', port=443): Max retries exceeded with url: /mon-viet/cach-nau-chao-ga-ngon-nhat/ (Caused by NameResolutionError(\"<urllib3.connection.HTTPSConnection object at 0x000002B3EC77DED0>: Failed to resolve 'bepmina.vn' ([Errno 11001] getaddrinfo failed)\"))\n",
      "Error encountered for page https://bepmina.vn/mon-viet/cach-nau-nghe-hap-thai/: HTTPSConnectionPool(host='bepmina.vn', port=443): Max retries exceeded with url: /mon-viet/cach-nau-nghe-hap-thai/ (Caused by NameResolutionError(\"<urllib3.connection.HTTPSConnection object at 0x000002B3EC7C41D0>: Failed to resolve 'bepmina.vn' ([Errno 11001] getaddrinfo failed)\"))\n",
      "Error encountered for page https://bepmina.vn/mon-viet/cac-mon-che-bien-tu-thit-trau/: HTTPSConnectionPool(host='bepmina.vn', port=443): Max retries exceeded with url: /mon-viet/cac-mon-che-bien-tu-thit-trau/ (Caused by NameResolutionError(\"<urllib3.connection.HTTPSConnection object at 0x000002B3EC7C6BD0>: Failed to resolve 'bepmina.vn' ([Errno 11001] getaddrinfo failed)\"))\n",
      "Error encountered for page https://bepmina.vn/mon-viet/cach-nau-sup-bi-do-kem-tuoi/: HTTPSConnectionPool(host='bepmina.vn', port=443): Max retries exceeded with url: /mon-viet/cach-nau-sup-bi-do-kem-tuoi/ (Caused by NameResolutionError(\"<urllib3.connection.HTTPSConnection object at 0x000002B3EC003A10>: Failed to resolve 'bepmina.vn' ([Errno 11001] getaddrinfo failed)\"))\n",
      "Error encountered for page https://bepmina.vn/mon-viet/cach-lam-cut-roti/: HTTPSConnectionPool(host='bepmina.vn', port=443): Max retries exceeded with url: /mon-viet/cach-lam-cut-roti/ (Caused by NameResolutionError(\"<urllib3.connection.HTTPSConnection object at 0x000002B3EC740590>: Failed to resolve 'bepmina.vn' ([Errno 11001] getaddrinfo failed)\"))\n",
      "Error encountered for page https://bepmina.vn/mon-viet/cach-lam-salad-dua-chuot/: HTTPSConnectionPool(host='bepmina.vn', port=443): Max retries exceeded with url: /mon-viet/cach-lam-salad-dua-chuot/ (Caused by NameResolutionError(\"<urllib3.connection.HTTPSConnection object at 0x000002B3EB896F10>: Failed to resolve 'bepmina.vn' ([Errno 11001] getaddrinfo failed)\"))\n",
      "Error encountered for page https://bepmina.vn/mon-viet/cach-lam-lap-xuong/: HTTPSConnectionPool(host='bepmina.vn', port=443): Max retries exceeded with url: /mon-viet/cach-lam-lap-xuong/ (Caused by NameResolutionError(\"<urllib3.connection.HTTPSConnection object at 0x000002B3EC6FD950>: Failed to resolve 'bepmina.vn' ([Errno 11001] getaddrinfo failed)\"))\n",
      "Error encountered for page https://bepmina.vn/mon-viet/trung-xao-ca-chua/: HTTPSConnectionPool(host='bepmina.vn', port=443): Max retries exceeded with url: /mon-viet/trung-xao-ca-chua/ (Caused by NameResolutionError(\"<urllib3.connection.HTTPSConnection object at 0x000002B3EC77D3D0>: Failed to resolve 'bepmina.vn' ([Errno 11001] getaddrinfo failed)\"))\n",
      "Error encountered for page https://bepmina.vn/mon-viet/cach-lam-hau-chien-trung/: HTTPSConnectionPool(host='bepmina.vn', port=443): Max retries exceeded with url: /mon-viet/cach-lam-hau-chien-trung/ (Caused by NameResolutionError(\"<urllib3.connection.HTTPSConnection object at 0x000002B3EC7C5050>: Failed to resolve 'bepmina.vn' ([Errno 11001] getaddrinfo failed)\"))\n",
      "Error encountered for page https://bepmina.vn/mon-viet/cach-lam-goi-bo-ca-phao/: HTTPSConnectionPool(host='bepmina.vn', port=443): Max retries exceeded with url: /mon-viet/cach-lam-goi-bo-ca-phao/ (Caused by NameResolutionError(\"<urllib3.connection.HTTPSConnection object at 0x000002B3EC003ED0>: Failed to resolve 'bepmina.vn' ([Errno 11001] getaddrinfo failed)\"))\n",
      "Error encountered for page https://bepmina.vn/mon-viet/cach-lam-pho-ga-tron/: HTTPSConnectionPool(host='bepmina.vn', port=443): Max retries exceeded with url: /mon-viet/cach-lam-pho-ga-tron/ (Caused by NameResolutionError(\"<urllib3.connection.HTTPSConnection object at 0x000002B3DB0712D0>: Failed to resolve 'bepmina.vn' ([Errno 11001] getaddrinfo failed)\"))\n",
      "Error encountered for page https://bepmina.vn/mon-viet/vit-xiem-nau-mon-gi-ngon/: HTTPSConnectionPool(host='bepmina.vn', port=443): Max retries exceeded with url: /mon-viet/vit-xiem-nau-mon-gi-ngon/ (Caused by NameResolutionError(\"<urllib3.connection.HTTPSConnection object at 0x000002B3EC041610>: Failed to resolve 'bepmina.vn' ([Errno 11001] getaddrinfo failed)\"))\n",
      "Error encountered for page https://bepmina.vn/mon-viet/cach-kho-thit-ba-chi-ngon/: HTTPSConnectionPool(host='bepmina.vn', port=443): Max retries exceeded with url: /mon-viet/cach-kho-thit-ba-chi-ngon/ (Caused by NameResolutionError(\"<urllib3.connection.HTTPSConnection object at 0x000002B3EC77CD50>: Failed to resolve 'bepmina.vn' ([Errno 11001] getaddrinfo failed)\"))\n",
      "Error encountered for page https://bepmina.vn/mon-viet/cach-che-bien-thit-tho/: HTTPSConnectionPool(host='bepmina.vn', port=443): Max retries exceeded with url: /mon-viet/cach-che-bien-thit-tho/ (Caused by NameResolutionError(\"<urllib3.connection.HTTPSConnection object at 0x000002B3EC002AD0>: Failed to resolve 'bepmina.vn' ([Errno 11001] getaddrinfo failed)\"))\n",
      "Error encountered for page https://bepmina.vn/mon-viet/ca-diec-kho-nghe/: HTTPSConnectionPool(host='bepmina.vn', port=443): Max retries exceeded with url: /mon-viet/ca-diec-kho-nghe/ (Caused by NameResolutionError(\"<urllib3.connection.HTTPSConnection object at 0x000002B3EC80F450>: Failed to resolve 'bepmina.vn' ([Errno 11001] getaddrinfo failed)\"))\n",
      "Error encountered for page https://bepmina.vn/mon-viet/cach-lam-cha-lua-bang-may-xay-sinh-to/: HTTPSConnectionPool(host='bepmina.vn', port=443): Max retries exceeded with url: /mon-viet/cach-lam-cha-lua-bang-may-xay-sinh-to/ (Caused by NameResolutionError(\"<urllib3.connection.HTTPSConnection object at 0x000002B3EC7C6850>: Failed to resolve 'bepmina.vn' ([Errno 11001] getaddrinfo failed)\"))\n",
      "Error encountered for page https://bepmina.vn/mon-viet/cach-lam-bun-bo-tron/: HTTPSConnectionPool(host='bepmina.vn', port=443): Max retries exceeded with url: /mon-viet/cach-lam-bun-bo-tron/ (Caused by NameResolutionError(\"<urllib3.connection.HTTPSConnection object at 0x000002B3EBF1BB50>: Failed to resolve 'bepmina.vn' ([Errno 11001] getaddrinfo failed)\"))\n",
      "Error encountered for page https://bepmina.vn/mon-viet/cach-lam-cu-nieng-xao-trung/: HTTPSConnectionPool(host='bepmina.vn', port=443): Max retries exceeded with url: /mon-viet/cach-lam-cu-nieng-xao-trung/ (Caused by NameResolutionError(\"<urllib3.connection.HTTPSConnection object at 0x000002B3EC742510>: Failed to resolve 'bepmina.vn' ([Errno 11001] getaddrinfo failed)\"))\n",
      "Error encountered for page https://bepmina.vn/mon-viet/thit-bo-xao-gi-ngon/: HTTPSConnectionPool(host='bepmina.vn', port=443): Max retries exceeded with url: /mon-viet/thit-bo-xao-gi-ngon/ (Caused by NameResolutionError(\"<urllib3.connection.HTTPSConnection object at 0x000002B3DB083790>: Failed to resolve 'bepmina.vn' ([Errno 11001] getaddrinfo failed)\"))\n",
      "Error encountered for page https://bepmina.vn/mon-viet/cach-nau-canh-mong-toi/: HTTPSConnectionPool(host='bepmina.vn', port=443): Max retries exceeded with url: /mon-viet/cach-nau-canh-mong-toi/ (Caused by NameResolutionError(\"<urllib3.connection.HTTPSConnection object at 0x000002B3EC6FD190>: Failed to resolve 'bepmina.vn' ([Errno 11001] getaddrinfo failed)\"))\n",
      "Error encountered for page https://bepmina.vn/mon-viet/cach-lam-bo-nuong-la-lot-mo-chai/: HTTPSConnectionPool(host='bepmina.vn', port=443): Max retries exceeded with url: /mon-viet/cach-lam-bo-nuong-la-lot-mo-chai/ (Caused by NameResolutionError(\"<urllib3.connection.HTTPSConnection object at 0x000002B3EC7C7D90>: Failed to resolve 'bepmina.vn' ([Errno 11001] getaddrinfo failed)\"))\n",
      "Error encountered for page https://bepmina.vn/mon-viet/cach-nau-canh-suon-bo-han-quoc/: HTTPSConnectionPool(host='bepmina.vn', port=443): Max retries exceeded with url: /mon-viet/cach-nau-canh-suon-bo-han-quoc/ (Caused by NameResolutionError(\"<urllib3.connection.HTTPSConnection object at 0x000002B3EC77E050>: Failed to resolve 'bepmina.vn' ([Errno 11001] getaddrinfo failed)\"))\n",
      "Error encountered for page https://bepmina.vn/mon-viet/cach-uop-suon-nuong-bbq/: HTTPSConnectionPool(host='bepmina.vn', port=443): Max retries exceeded with url: /mon-viet/cach-uop-suon-nuong-bbq/ (Caused by NameResolutionError(\"<urllib3.connection.HTTPSConnection object at 0x000002B3EC001B90>: Failed to resolve 'bepmina.vn' ([Errno 11001] getaddrinfo failed)\"))\n",
      "Error encountered for page https://bepmina.vn/mon-viet/cu-cai-trang-muoi-chua-ngot-han-quoc/: HTTPSConnectionPool(host='bepmina.vn', port=443): Max retries exceeded with url: /mon-viet/cu-cai-trang-muoi-chua-ngot-han-quoc/ (Caused by NameResolutionError(\"<urllib3.connection.HTTPSConnection object at 0x000002B3EC1C7590>: Failed to resolve 'bepmina.vn' ([Errno 11001] getaddrinfo failed)\"))\n",
      "Error encountered for page https://bepmina.vn/mon-viet/cach-nau-chao-hau-ngon/: HTTPSConnectionPool(host='bepmina.vn', port=443): Max retries exceeded with url: /mon-viet/cach-nau-chao-hau-ngon/ (Caused by NameResolutionError(\"<urllib3.connection.HTTPSConnection object at 0x000002B3EC041590>: Failed to resolve 'bepmina.vn' ([Errno 11001] getaddrinfo failed)\"))\n",
      "Error encountered for page https://bepmina.vn/mon-viet/cach-lam-bach-tuoc-sot-thai/: HTTPSConnectionPool(host='bepmina.vn', port=443): Max retries exceeded with url: /mon-viet/cach-lam-bach-tuoc-sot-thai/ (Caused by NameResolutionError(\"<urllib3.connection.HTTPSConnection object at 0x000002B3EC77D150>: Failed to resolve 'bepmina.vn' ([Errno 11001] getaddrinfo failed)\"))\n",
      "Error encountered for page https://bepmina.vn/mon-viet/cach-lam-goi-ga-bap-chuoi/: HTTPSConnectionPool(host='bepmina.vn', port=443): Max retries exceeded with url: /mon-viet/cach-lam-goi-ga-bap-chuoi/ (Caused by NameResolutionError(\"<urllib3.connection.HTTPSConnection object at 0x000002B3EC002F50>: Failed to resolve 'bepmina.vn' ([Errno 11001] getaddrinfo failed)\"))\n",
      "Error encountered for page https://bepmina.vn/mon-viet/cach-uop-suon-bo-nuong/: HTTPSConnectionPool(host='bepmina.vn', port=443): Max retries exceeded with url: /mon-viet/cach-uop-suon-bo-nuong/ (Caused by NameResolutionError(\"<urllib3.connection.HTTPSConnection object at 0x000002B3EC80F5D0>: Failed to resolve 'bepmina.vn' ([Errno 11001] getaddrinfo failed)\"))\n",
      "Error encountered for page https://bepmina.vn/mon-viet/cach-lam-trung-ngam-tuong-han-quoc/: HTTPSConnectionPool(host='bepmina.vn', port=443): Max retries exceeded with url: /mon-viet/cach-lam-trung-ngam-tuong-han-quoc/ (Caused by NameResolutionError(\"<urllib3.connection.HTTPSConnection object at 0x000002B3EC7C7090>: Failed to resolve 'bepmina.vn' ([Errno 11001] getaddrinfo failed)\"))\n",
      "Error encountered for page https://bepmina.vn/mon-viet/cach-lam-bap-cai-xao/: HTTPSConnectionPool(host='bepmina.vn', port=443): Max retries exceeded with url: /mon-viet/cach-lam-bap-cai-xao/ (Caused by NameResolutionError(\"<urllib3.connection.HTTPSConnection object at 0x000002B3EC6FD790>: Failed to resolve 'bepmina.vn' ([Errno 11001] getaddrinfo failed)\"))\n",
      "Error encountered for page https://bepmina.vn/mon-viet/cach-lam-goi-ga-mang-cut/: HTTPSConnectionPool(host='bepmina.vn', port=443): Max retries exceeded with url: /mon-viet/cach-lam-goi-ga-mang-cut/ (Caused by NameResolutionError(\"<urllib3.connection.HTTPSConnection object at 0x000002B3EC740710>: Failed to resolve 'bepmina.vn' ([Errno 11001] getaddrinfo failed)\"))\n",
      "Error encountered for page https://bepmina.vn/mon-viet/cach-nau-lau-chay/: HTTPSConnectionPool(host='bepmina.vn', port=443): Max retries exceeded with url: /mon-viet/cach-nau-lau-chay/ (Caused by NameResolutionError(\"<urllib3.connection.HTTPSConnection object at 0x000002B3E99278D0>: Failed to resolve 'bepmina.vn' ([Errno 11001] getaddrinfo failed)\"))\n",
      "Error encountered for page https://bepmina.vn/mon-viet/mon-ngon-voi-dau-phu-va-trung/: HTTPSConnectionPool(host='bepmina.vn', port=443): Max retries exceeded with url: /mon-viet/mon-ngon-voi-dau-phu-va-trung/ (Caused by NameResolutionError(\"<urllib3.connection.HTTPSConnection object at 0x000002B3EC6FD2D0>: Failed to resolve 'bepmina.vn' ([Errno 11001] getaddrinfo failed)\"))\n",
      "Error encountered for page https://bepmina.vn/mon-viet/cach-lam-gio-xao-bang-chai-nhua/: HTTPSConnectionPool(host='bepmina.vn', port=443): Max retries exceeded with url: /mon-viet/cach-lam-gio-xao-bang-chai-nhua/ (Caused by NameResolutionError(\"<urllib3.connection.HTTPSConnection object at 0x000002B3EC7C71D0>: Failed to resolve 'bepmina.vn' ([Errno 11001] getaddrinfo failed)\"))\n",
      "Error encountered for page https://bepmina.vn/mon-viet/ca-tre-lam-mon-gi-ngon/: HTTPSConnectionPool(host='bepmina.vn', port=443): Max retries exceeded with url: /mon-viet/ca-tre-lam-mon-gi-ngon/ (Caused by NameResolutionError(\"<urllib3.connection.HTTPSConnection object at 0x000002B3EC0011D0>: Failed to resolve 'bepmina.vn' ([Errno 11001] getaddrinfo failed)\"))\n",
      "Error encountered for page https://bepmina.vn/mon-viet/cach-lam-mi-xao-bo/: HTTPSConnectionPool(host='bepmina.vn', port=443): Max retries exceeded with url: /mon-viet/cach-lam-mi-xao-bo/ (Caused by NameResolutionError(\"<urllib3.connection.HTTPSConnection object at 0x000002B3EC003A50>: Failed to resolve 'bepmina.vn' ([Errno 11001] getaddrinfo failed)\"))\n",
      "Error encountered for page https://bepmina.vn/mon-viet/cach-xao-muc-tuoi-voi-dua/: HTTPSConnectionPool(host='bepmina.vn', port=443): Max retries exceeded with url: /mon-viet/cach-xao-muc-tuoi-voi-dua/ (Caused by NameResolutionError(\"<urllib3.connection.HTTPSConnection object at 0x000002B3EC77FC90>: Failed to resolve 'bepmina.vn' ([Errno 11001] getaddrinfo failed)\"))\n",
      "Error encountered for page https://bepmina.vn/mon-viet/cach-lam-chao-tai-heo/: HTTPSConnectionPool(host='bepmina.vn', port=443): Max retries exceeded with url: /mon-viet/cach-lam-chao-tai-heo/ (Caused by NameResolutionError(\"<urllib3.connection.HTTPSConnection object at 0x000002B3EC77DF50>: Failed to resolve 'bepmina.vn' ([Errno 11001] getaddrinfo failed)\"))\n",
      "Error encountered for page https://bepmina.vn/mon-viet/cach-lam-thit-kho-cu-cai/: HTTPSConnectionPool(host='bepmina.vn', port=443): Max retries exceeded with url: /mon-viet/cach-lam-thit-kho-cu-cai/ (Caused by NameResolutionError(\"<urllib3.connection.HTTPSConnection object at 0x000002B3EC002AD0>: Failed to resolve 'bepmina.vn' ([Errno 11001] getaddrinfo failed)\"))\n",
      "Error encountered for page https://bepmina.vn/mon-viet/cach-lam-khoai-tay-nghien/: HTTPSConnectionPool(host='bepmina.vn', port=443): Max retries exceeded with url: /mon-viet/cach-lam-khoai-tay-nghien/ (Caused by NameResolutionError(\"<urllib3.connection.HTTPSConnection object at 0x000002B3EC002F10>: Failed to resolve 'bepmina.vn' ([Errno 11001] getaddrinfo failed)\"))\n",
      "Error encountered for page https://bepmina.vn/mon-viet/cach-lam-mi-xao-hai-san/: HTTPSConnectionPool(host='bepmina.vn', port=443): Max retries exceeded with url: /mon-viet/cach-lam-mi-xao-hai-san/ (Caused by NameResolutionError(\"<urllib3.connection.HTTPSConnection object at 0x000002B3EC80FC10>: Failed to resolve 'bepmina.vn' ([Errno 11001] getaddrinfo failed)\"))\n",
      "Error encountered for page https://bepmina.vn/mon-viet/cach-muoi-hanh-chua-ngot/: HTTPSConnectionPool(host='bepmina.vn', port=443): Max retries exceeded with url: /mon-viet/cach-muoi-hanh-chua-ngot/ (Caused by NameResolutionError(\"<urllib3.connection.HTTPSConnection object at 0x000002B3EC7C54D0>: Failed to resolve 'bepmina.vn' ([Errno 11001] getaddrinfo failed)\"))\n",
      "Error encountered for page https://bepmina.vn/mon-viet/ba-roi-chien-nuoc-mam/: HTTPSConnectionPool(host='bepmina.vn', port=443): Max retries exceeded with url: /mon-viet/ba-roi-chien-nuoc-mam/ (Caused by NameResolutionError(\"<urllib3.connection.HTTPSConnection object at 0x000002B3EBF1BC50>: Failed to resolve 'bepmina.vn' ([Errno 11001] getaddrinfo failed)\"))\n",
      "Error encountered for page https://bepmina.vn/mon-viet/mang-tay-xao-thit-bo/: HTTPSConnectionPool(host='bepmina.vn', port=443): Max retries exceeded with url: /mon-viet/mang-tay-xao-thit-bo/ (Caused by NameResolutionError(\"<urllib3.connection.HTTPSConnection object at 0x000002B3EC740990>: Failed to resolve 'bepmina.vn' ([Errno 11001] getaddrinfo failed)\"))\n",
      "Error encountered for page https://bepmina.vn/mon-viet/cach-nau-thit-kho-tau-mien-bac/: HTTPSConnectionPool(host='bepmina.vn', port=443): Max retries exceeded with url: /mon-viet/cach-nau-thit-kho-tau-mien-bac/ (Caused by NameResolutionError(\"<urllib3.connection.HTTPSConnection object at 0x000002B3EDD1F950>: Failed to resolve 'bepmina.vn' ([Errno 11001] getaddrinfo failed)\"))\n",
      "Error encountered for page https://bepmina.vn/mon-viet/cac-mon-vit-kho/: HTTPSConnectionPool(host='bepmina.vn', port=443): Max retries exceeded with url: /mon-viet/cac-mon-vit-kho/ (Caused by NameResolutionError(\"<urllib3.connection.HTTPSConnection object at 0x000002B3EC003450>: Failed to resolve 'bepmina.vn' ([Errno 11001] getaddrinfo failed)\"))\n",
      "Error encountered for page https://bepmina.vn/mon-viet/cach-luoc-da-day-lon-ngon/: HTTPSConnectionPool(host='bepmina.vn', port=443): Max retries exceeded with url: /mon-viet/cach-luoc-da-day-lon-ngon/ (Caused by NameResolutionError(\"<urllib3.connection.HTTPSConnection object at 0x000002B3EC003250>: Failed to resolve 'bepmina.vn' ([Errno 11001] getaddrinfo failed)\"))\n",
      "Error encountered for page https://bepmina.vn/mon-viet/cach-lam-mi-xao-sot-ca-chua/: HTTPSConnectionPool(host='bepmina.vn', port=443): Max retries exceeded with url: /mon-viet/cach-lam-mi-xao-sot-ca-chua/ (Caused by NameResolutionError(\"<urllib3.connection.HTTPSConnection object at 0x000002B3EC7C54D0>: Failed to resolve 'bepmina.vn' ([Errno 11001] getaddrinfo failed)\"))\n",
      "Error encountered for page https://bepmina.vn/mon-viet/canh-rau-ma-nau-tom/: HTTPSConnectionPool(host='bepmina.vn', port=443): Max retries exceeded with url: /mon-viet/canh-rau-ma-nau-tom/ (Caused by NameResolutionError(\"<urllib3.connection.HTTPSConnection object at 0x000002B3EC77D150>: Failed to resolve 'bepmina.vn' ([Errno 11001] getaddrinfo failed)\"))\n",
      "Error encountered for page https://bepmina.vn/mon-viet/cach-lam-thit-kho-dong-pha/: HTTPSConnectionPool(host='bepmina.vn', port=443): Max retries exceeded with url: /mon-viet/cach-lam-thit-kho-dong-pha/ (Caused by NameResolutionError(\"<urllib3.connection.HTTPSConnection object at 0x000002B3EBB41E50>: Failed to resolve 'bepmina.vn' ([Errno 11001] getaddrinfo failed)\"))\n",
      "Error encountered for page https://bepmina.vn/mon-viet/cach-lam-dau-phu-chien-gion/: HTTPSConnectionPool(host='bepmina.vn', port=443): Max retries exceeded with url: /mon-viet/cach-lam-dau-phu-chien-gion/ (Caused by NameResolutionError(\"<urllib3.connection.HTTPSConnection object at 0x000002B3EC80FC50>: Failed to resolve 'bepmina.vn' ([Errno 11001] getaddrinfo failed)\"))\n",
      "Error encountered for page https://bepmina.vn/mon-viet/canh-suon-chua-nau-dua/: HTTPSConnectionPool(host='bepmina.vn', port=443): Max retries exceeded with url: /mon-viet/canh-suon-chua-nau-dua/ (Caused by NameResolutionError(\"<urllib3.connection.HTTPSConnection object at 0x000002B3EC77D9D0>: Failed to resolve 'bepmina.vn' ([Errno 11001] getaddrinfo failed)\"))\n",
      "Error encountered for page https://bepmina.vn/mon-viet/ca-ro-phi-hap-xi-dau/: HTTPSConnectionPool(host='bepmina.vn', port=443): Max retries exceeded with url: /mon-viet/ca-ro-phi-hap-xi-dau/ (Caused by NameResolutionError(\"<urllib3.connection.HTTPSConnection object at 0x000002B3EB9BC190>: Failed to resolve 'bepmina.vn' ([Errno 11001] getaddrinfo failed)\"))\n",
      "Error encountered for page https://bepmina.vn/mon-viet/cach-nau-canh-rong-bien-kho/: HTTPSConnectionPool(host='bepmina.vn', port=443): Max retries exceeded with url: /mon-viet/cach-nau-canh-rong-bien-kho/ (Caused by NameResolutionError(\"<urllib3.connection.HTTPSConnection object at 0x000002B3EC001450>: Failed to resolve 'bepmina.vn' ([Errno 11001] getaddrinfo failed)\"))\n",
      "Error encountered for page https://bepmina.vn/mon-viet/cach-lam-hau-hap-gung-hanh/: HTTPSConnectionPool(host='bepmina.vn', port=443): Max retries exceeded with url: /mon-viet/cach-lam-hau-hap-gung-hanh/ (Caused by NameResolutionError(\"<urllib3.connection.HTTPSConnection object at 0x000002B3EB9C1990>: Failed to resolve 'bepmina.vn' ([Errno 11001] getaddrinfo failed)\"))\n",
      "Error encountered for page https://bepmina.vn/mon-viet/cach-lam-suon-bo-ham-han-quoc/: HTTPSConnectionPool(host='bepmina.vn', port=443): Max retries exceeded with url: /mon-viet/cach-lam-suon-bo-ham-han-quoc/ (Caused by NameResolutionError(\"<urllib3.connection.HTTPSConnection object at 0x000002B3EC7C5750>: Failed to resolve 'bepmina.vn' ([Errno 11001] getaddrinfo failed)\"))\n",
      "Error encountered for page https://bepmina.vn/mon-viet/cach-lam-cha-ca-ngan-la-lot/: HTTPSConnectionPool(host='bepmina.vn', port=443): Max retries exceeded with url: /mon-viet/cach-lam-cha-ca-ngan-la-lot/ (Caused by NameResolutionError(\"<urllib3.connection.HTTPSConnection object at 0x000002B3EBF1B790>: Failed to resolve 'bepmina.vn' ([Errno 11001] getaddrinfo failed)\"))\n",
      "Error encountered for page https://bepmina.vn/mon-viet/muc-trung-chien-nuoc-mam/: HTTPSConnectionPool(host='bepmina.vn', port=443): Max retries exceeded with url: /mon-viet/muc-trung-chien-nuoc-mam/ (Caused by NameResolutionError(\"<urllib3.connection.HTTPSConnection object at 0x000002B3EBEE2110>: Failed to resolve 'bepmina.vn' ([Errno 11001] getaddrinfo failed)\"))\n",
      "Error encountered for page https://bepmina.vn/mon-viet/bun-gao-lut-tron/: HTTPSConnectionPool(host='bepmina.vn', port=443): Max retries exceeded with url: /mon-viet/bun-gao-lut-tron/ (Caused by NameResolutionError(\"<urllib3.connection.HTTPSConnection object at 0x000002B3EC8E3CD0>: Failed to resolve 'bepmina.vn' ([Errno 11001] getaddrinfo failed)\"))\n",
      "Error encountered for page https://bepmina.vn/mon-viet/mon-ngon-tu-ca-dieu-hong/: HTTPSConnectionPool(host='bepmina.vn', port=443): Max retries exceeded with url: /mon-viet/mon-ngon-tu-ca-dieu-hong/ (Caused by NameResolutionError(\"<urllib3.connection.HTTPSConnection object at 0x000002B3EC000B90>: Failed to resolve 'bepmina.vn' ([Errno 11001] getaddrinfo failed)\"))\n",
      "Error encountered for page https://bepmina.vn/mon-viet/cach-lam-long-heo-xao-cai-chua/: HTTPSConnectionPool(host='bepmina.vn', port=443): Max retries exceeded with url: /mon-viet/cach-lam-long-heo-xao-cai-chua/ (Caused by NameResolutionError(\"<urllib3.connection.HTTPSConnection object at 0x000002B3EC6FD950>: Failed to resolve 'bepmina.vn' ([Errno 11001] getaddrinfo failed)\"))\n",
      "Error encountered for page https://bepmina.vn/mon-viet/cach-lam-suon-ram-man-ngot/: HTTPSConnectionPool(host='bepmina.vn', port=443): Max retries exceeded with url: /mon-viet/cach-lam-suon-ram-man-ngot/ (Caused by NameResolutionError(\"<urllib3.connection.HTTPSConnection object at 0x000002B3EC7C4190>: Failed to resolve 'bepmina.vn' ([Errno 11001] getaddrinfo failed)\"))\n",
      "Error encountered for page https://bepmina.vn/mon-viet/cach-lam-thit-cuon-la-nho/: HTTPSConnectionPool(host='bepmina.vn', port=443): Max retries exceeded with url: /mon-viet/cach-lam-thit-cuon-la-nho/ (Caused by NameResolutionError(\"<urllib3.connection.HTTPSConnection object at 0x000002B3EBF1BDD0>: Failed to resolve 'bepmina.vn' ([Errno 11001] getaddrinfo failed)\"))\n",
      "Error encountered for page https://bepmina.vn/mon-viet/cach-lam-hau-nuong-pho-mai/: HTTPSConnectionPool(host='bepmina.vn', port=443): Max retries exceeded with url: /mon-viet/cach-lam-hau-nuong-pho-mai/ (Caused by NameResolutionError(\"<urllib3.connection.HTTPSConnection object at 0x000002B3DB227BD0>: Failed to resolve 'bepmina.vn' ([Errno 11001] getaddrinfo failed)\"))\n",
      "Error encountered for page https://bepmina.vn/mon-viet/cach-lam-oc-huong-rang-muoi/: HTTPSConnectionPool(host='bepmina.vn', port=443): Max retries exceeded with url: /mon-viet/cach-lam-oc-huong-rang-muoi/ (Caused by NameResolutionError(\"<urllib3.connection.HTTPSConnection object at 0x000002B3EC77FE10>: Failed to resolve 'bepmina.vn' ([Errno 11001] getaddrinfo failed)\"))\n",
      "Error encountered for page https://bepmina.vn/mon-viet/ca-hoi-sot-ca-chua/: HTTPSConnectionPool(host='bepmina.vn', port=443): Max retries exceeded with url: /mon-viet/ca-hoi-sot-ca-chua/ (Caused by NameResolutionError(\"<urllib3.connection.HTTPSConnection object at 0x000002B3EBF1B950>: Failed to resolve 'bepmina.vn' ([Errno 11001] getaddrinfo failed)\"))\n",
      "Error encountered for page https://bepmina.vn/mon-viet/canh-muop-nau-lac/: HTTPSConnectionPool(host='bepmina.vn', port=443): Max retries exceeded with url: /mon-viet/canh-muop-nau-lac/ (Caused by NameResolutionError(\"<urllib3.connection.HTTPSConnection object at 0x000002B3EC7C4D50>: Failed to resolve 'bepmina.vn' ([Errno 11001] getaddrinfo failed)\"))\n",
      "Error encountered for page https://bepmina.vn/mon-viet/cach-nau-mi-tuong-den-han-quoc/: HTTPSConnectionPool(host='bepmina.vn', port=443): Max retries exceeded with url: /mon-viet/cach-nau-mi-tuong-den-han-quoc/ (Caused by NameResolutionError(\"<urllib3.connection.HTTPSConnection object at 0x000002B3EC001DD0>: Failed to resolve 'bepmina.vn' ([Errno 11001] getaddrinfo failed)\"))\n",
      "Error encountered for page https://bepmina.vn/mon-viet/de-suon-bo-kho/: HTTPSConnectionPool(host='bepmina.vn', port=443): Max retries exceeded with url: /mon-viet/de-suon-bo-kho/ (Caused by NameResolutionError(\"<urllib3.connection.HTTPSConnection object at 0x000002B3EA7DC650>: Failed to resolve 'bepmina.vn' ([Errno 11001] getaddrinfo failed)\"))\n",
      "Error encountered for page https://bepmina.vn/mon-viet/cach-nau-canh-khoai-mo/: HTTPSConnectionPool(host='bepmina.vn', port=443): Max retries exceeded with url: /mon-viet/cach-nau-canh-khoai-mo/ (Caused by NameResolutionError(\"<urllib3.connection.HTTPSConnection object at 0x000002B3EC743510>: Failed to resolve 'bepmina.vn' ([Errno 11001] getaddrinfo failed)\"))\n",
      "Error encountered for page https://bepmina.vn/mon-viet/cach-lam-ga-rang-gung/: HTTPSConnectionPool(host='bepmina.vn', port=443): Max retries exceeded with url: /mon-viet/cach-lam-ga-rang-gung/ (Caused by NameResolutionError(\"<urllib3.connection.HTTPSConnection object at 0x000002B3EB8BF4D0>: Failed to resolve 'bepmina.vn' ([Errno 11001] getaddrinfo failed)\"))\n",
      "Error encountered for page https://bepmina.vn/mon-viet/cach-lam-ca-ngu-kho-mang/: HTTPSConnectionPool(host='bepmina.vn', port=443): Max retries exceeded with url: /mon-viet/cach-lam-ca-ngu-kho-mang/ (Caused by NameResolutionError(\"<urllib3.connection.HTTPSConnection object at 0x000002B3EC6FD390>: Failed to resolve 'bepmina.vn' ([Errno 11001] getaddrinfo failed)\"))\n",
      "Error encountered for page https://bepmina.vn/mon-viet/cach-lam-salad-ca-ngu/: HTTPSConnectionPool(host='bepmina.vn', port=443): Max retries exceeded with url: /mon-viet/cach-lam-salad-ca-ngu/ (Caused by NameResolutionError(\"<urllib3.connection.HTTPSConnection object at 0x000002B3EC003250>: Failed to resolve 'bepmina.vn' ([Errno 11001] getaddrinfo failed)\"))\n",
      "Error encountered for page https://bepmina.vn/mon-viet/cach-lam-canh-muop-dang-nhoi-thit/: HTTPSConnectionPool(host='bepmina.vn', port=443): Max retries exceeded with url: /mon-viet/cach-lam-canh-muop-dang-nhoi-thit/ (Caused by NameResolutionError(\"<urllib3.connection.HTTPSConnection object at 0x000002B3EC7C67D0>: Failed to resolve 'bepmina.vn' ([Errno 11001] getaddrinfo failed)\"))\n",
      "Error encountered for page https://bepmina.vn/mon-viet/cach-nau-bo-rim-nghe-an/: HTTPSConnectionPool(host='bepmina.vn', port=443): Max retries exceeded with url: /mon-viet/cach-nau-bo-rim-nghe-an/ (Caused by NameResolutionError(\"<urllib3.connection.HTTPSConnection object at 0x000002B3EC77FED0>: Failed to resolve 'bepmina.vn' ([Errno 11001] getaddrinfo failed)\"))\n",
      "Error encountered for page https://bepmina.vn/mon-viet/met-long-lon-luoc-thap-cam/: HTTPSConnectionPool(host='bepmina.vn', port=443): Max retries exceeded with url: /mon-viet/met-long-lon-luoc-thap-cam/ (Caused by NameResolutionError(\"<urllib3.connection.HTTPSConnection object at 0x000002B3EC743BD0>: Failed to resolve 'bepmina.vn' ([Errno 11001] getaddrinfo failed)\"))\n",
      "Error encountered for page https://bepmina.vn/mon-viet/cach-lam-bap-cai-xao-ca-chua/: HTTPSConnectionPool(host='bepmina.vn', port=443): Max retries exceeded with url: /mon-viet/cach-lam-bap-cai-xao-ca-chua/ (Caused by NameResolutionError(\"<urllib3.connection.HTTPSConnection object at 0x000002B3EC77D050>: Failed to resolve 'bepmina.vn' ([Errno 11001] getaddrinfo failed)\"))\n",
      "Error encountered for page https://bepmina.vn/mon-viet/thit-nong-heo-lam-mon-gi-ngon/: HTTPSConnectionPool(host='bepmina.vn', port=443): Max retries exceeded with url: /mon-viet/thit-nong-heo-lam-mon-gi-ngon/ (Caused by NameResolutionError(\"<urllib3.connection.HTTPSConnection object at 0x000002B3EBF19910>: Failed to resolve 'bepmina.vn' ([Errno 11001] getaddrinfo failed)\"))\n",
      "Error encountered for page https://bepmina.vn/mon-viet/cach-lam-be-be-rang-muoi/: HTTPSConnectionPool(host='bepmina.vn', port=443): Max retries exceeded with url: /mon-viet/cach-lam-be-be-rang-muoi/ (Caused by NameResolutionError(\"<urllib3.connection.HTTPSConnection object at 0x000002B3EC7C40D0>: Failed to resolve 'bepmina.vn' ([Errno 11001] getaddrinfo failed)\"))\n",
      "Error encountered for page https://bepmina.vn/mon-viet/thit-bo-xao-mang-chua/: HTTPSConnectionPool(host='bepmina.vn', port=443): Max retries exceeded with url: /mon-viet/thit-bo-xao-mang-chua/ (Caused by NameResolutionError(\"<urllib3.connection.HTTPSConnection object at 0x000002B3EC002750>: Failed to resolve 'bepmina.vn' ([Errno 11001] getaddrinfo failed)\"))\n",
      "Error encountered for page https://bepmina.vn/mon-viet/cach-lam-bap-cai-cuon-thit/: HTTPSConnectionPool(host='bepmina.vn', port=443): Max retries exceeded with url: /mon-viet/cach-lam-bap-cai-cuon-thit/ (Caused by NameResolutionError(\"<urllib3.connection.HTTPSConnection object at 0x000002B3DAB174D0>: Failed to resolve 'bepmina.vn' ([Errno 11001] getaddrinfo failed)\"))\n",
      "Error encountered for page https://bepmina.vn/mon-viet/cach-lam-nuoc-cham-hai-san/: HTTPSConnectionPool(host='bepmina.vn', port=443): Max retries exceeded with url: /mon-viet/cach-lam-nuoc-cham-hai-san/ (Caused by NameResolutionError(\"<urllib3.connection.HTTPSConnection object at 0x000002B3EBEE2110>: Failed to resolve 'bepmina.vn' ([Errno 11001] getaddrinfo failed)\"))\n",
      "Error encountered for page https://bepmina.vn/mon-viet/cach-lam-cua-sot-me-cham-banh-mi/: HTTPSConnectionPool(host='bepmina.vn', port=443): Max retries exceeded with url: /mon-viet/cach-lam-cua-sot-me-cham-banh-mi/ (Caused by NameResolutionError(\"<urllib3.connection.HTTPSConnection object at 0x000002B3EC741A90>: Failed to resolve 'bepmina.vn' ([Errno 11001] getaddrinfo failed)\"))\n",
      "Error encountered for page https://bepmina.vn/mon-viet/cach-lam-goi-cuon-tom-thit/: HTTPSConnectionPool(host='bepmina.vn', port=443): Max retries exceeded with url: /mon-viet/cach-lam-goi-cuon-tom-thit/ (Caused by NameResolutionError(\"<urllib3.connection.HTTPSConnection object at 0x000002B3DAB1BA50>: Failed to resolve 'bepmina.vn' ([Errno 11001] getaddrinfo failed)\"))\n",
      "Error encountered for page https://bepmina.vn/mon-viet/cach-uop-long-heo-nuong/: HTTPSConnectionPool(host='bepmina.vn', port=443): Max retries exceeded with url: /mon-viet/cach-uop-long-heo-nuong/ (Caused by NameResolutionError(\"<urllib3.connection.HTTPSConnection object at 0x000002B3EC6FD210>: Failed to resolve 'bepmina.vn' ([Errno 11001] getaddrinfo failed)\"))\n",
      "Error encountered for page https://bepmina.vn/mon-viet/cach-nau-oc-chuoi-dau-thit/: HTTPSConnectionPool(host='bepmina.vn', port=443): Max retries exceeded with url: /mon-viet/cach-nau-oc-chuoi-dau-thit/ (Caused by NameResolutionError(\"<urllib3.connection.HTTPSConnection object at 0x000002B3EC7C55D0>: Failed to resolve 'bepmina.vn' ([Errno 11001] getaddrinfo failed)\"))\n",
      "Error encountered for page https://bepmina.vn/mon-viet/cach-lam-bap-bo-ngam-rau-tien-vua/: HTTPSConnectionPool(host='bepmina.vn', port=443): Max retries exceeded with url: /mon-viet/cach-lam-bap-bo-ngam-rau-tien-vua/ (Caused by NameResolutionError(\"<urllib3.connection.HTTPSConnection object at 0x000002B3EC001210>: Failed to resolve 'bepmina.vn' ([Errno 11001] getaddrinfo failed)\"))\n",
      "Error encountered for page https://bepmina.vn/mon-viet/cach-lam-vit-quay-sot-tieu-den/: HTTPSConnectionPool(host='bepmina.vn', port=443): Max retries exceeded with url: /mon-viet/cach-lam-vit-quay-sot-tieu-den/ (Caused by NameResolutionError(\"<urllib3.connection.HTTPSConnection object at 0x000002B3EC77FE10>: Failed to resolve 'bepmina.vn' ([Errno 11001] getaddrinfo failed)\"))\n",
      "Error encountered for page https://bepmina.vn/mon-viet/thuc-don-tiet-kiem-cho-gia-dinh-4-nguoi/: HTTPSConnectionPool(host='bepmina.vn', port=443): Max retries exceeded with url: /mon-viet/thuc-don-tiet-kiem-cho-gia-dinh-4-nguoi/ (Caused by NameResolutionError(\"<urllib3.connection.HTTPSConnection object at 0x000002B3EC740210>: Failed to resolve 'bepmina.vn' ([Errno 11001] getaddrinfo failed)\"))\n",
      "Error encountered for page https://bepmina.vn/mon-viet/cach-lam-dau-phu-nhoi-thit/: HTTPSConnectionPool(host='bepmina.vn', port=443): Max retries exceeded with url: /mon-viet/cach-lam-dau-phu-nhoi-thit/ (Caused by NameResolutionError(\"<urllib3.connection.HTTPSConnection object at 0x000002B3EC77DE50>: Failed to resolve 'bepmina.vn' ([Errno 11001] getaddrinfo failed)\"))\n",
      "Error encountered for page https://bepmina.vn/mon-viet/chan-ga-lam-mon-gi-ngon/: HTTPSConnectionPool(host='bepmina.vn', port=443): Max retries exceeded with url: /mon-viet/chan-ga-lam-mon-gi-ngon/ (Caused by NameResolutionError(\"<urllib3.connection.HTTPSConnection object at 0x000002B3EC7C40D0>: Failed to resolve 'bepmina.vn' ([Errno 11001] getaddrinfo failed)\"))\n",
      "Error encountered for page https://bepmina.vn/mon-viet/cach-lam-khau-duoi-chien-gion/: HTTPSConnectionPool(host='bepmina.vn', port=443): Max retries exceeded with url: /mon-viet/cach-lam-khau-duoi-chien-gion/ (Caused by NameResolutionError(\"<urllib3.connection.HTTPSConnection object at 0x000002B3EC7C6C10>: Failed to resolve 'bepmina.vn' ([Errno 11001] getaddrinfo failed)\"))\n"
     ]
    }
   ],
   "source": [
    "for dish in data['link'][:100]:\n",
    "    url = dish\n",
    "    title = str()\n",
    "    ingredients = []\n",
    "    quantities = []\n",
    "    error_links = []\n",
    "    try:\n",
    "        response = requests.get(url)\n",
    "        response.raise_for_status()  \n",
    "\n",
    "        webpage = soup(response.text, 'html.parser')\n",
    "        title = (webpage.find('h1').get_text())\n",
    "        ul_tags = webpage.find_all('ul',class_=\"ingredients-list\")\n",
    "        for ul_tag in ul_tags:\n",
    "            li_tags = ul_tag.find_all('li')\n",
    "            for i in li_tags:\n",
    "                string = i.get_text()\n",
    "                ingredient, quantity = split_data(string)\n",
    "                if len(ingredients)<10:\n",
    "                    ingredients.append(ingredient)\n",
    "                    quantities.append(quantity)\n",
    "    except requests.exceptions.RequestException as e:\n",
    "        print(f\"Error encountered for page {url}: {e}\")\n",
    "    if len(ingredients) != 0:\n",
    "        dump_dish_json(title,ingredients,quantities)"
   ]
  },
  {
   "cell_type": "code",
   "execution_count": 14,
   "metadata": {},
   "outputs": [],
   "source": [
    "with open('D:\\\\UIT\\\\Machine_Learning\\\\project\\\\official_dishes.json','r',encoding='utf-8') as f:\n",
    "    data = js.load(f)"
   ]
  },
  {
   "cell_type": "code",
   "execution_count": 30,
   "metadata": {},
   "outputs": [],
   "source": [
    "for dish in data.keys():\n",
    "    keys_list = []\n",
    "    values_list = []\n",
    "    title = dish\n",
    "    for key, value in data[dish].items():\n",
    "        if len(key) <= 10:\n",
    "            keys_list.append(key)\n",
    "            values_list.append(value)\n",
    "    if len(keys_list) != 0:\n",
    "        dump_dish_json(title,keys_list,values_list)"
   ]
  },
  {
   "cell_type": "code",
   "execution_count": 1,
   "metadata": {},
   "outputs": [
    {
     "name": "stdout",
     "output_type": "stream",
     "text": [
      "hello\n"
     ]
    }
   ],
   "source": [
    "print(\"hello\")"
   ]
  }
 ],
 "metadata": {
  "kernelspec": {
   "display_name": "Python 3",
   "language": "python",
   "name": "python3"
  },
  "language_info": {
   "codemirror_mode": {
    "name": "ipython",
    "version": 3
   },
   "file_extension": ".py",
   "mimetype": "text/x-python",
   "name": "python",
   "nbconvert_exporter": "python",
   "pygments_lexer": "ipython3",
   "version": "3.11.4"
  }
 },
 "nbformat": 4,
 "nbformat_minor": 2
}
