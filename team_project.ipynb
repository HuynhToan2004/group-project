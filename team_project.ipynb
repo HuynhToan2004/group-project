{
 "cells": [
  {
   "cell_type": "code",
   "execution_count": 1,
   "metadata": {},
   "outputs": [],
   "source": [
    "import numpy as np\n",
    "import pandas as pd\n",
    "import json as js\n",
    "from functions import dump_links_json, dump_dish_json"
   ]
  },
  {
   "cell_type": "code",
   "execution_count": 4,
   "metadata": {},
   "outputs": [],
   "source": [
    "def split_data(s):\n",
    "    try:\n",
    "        string = s.split(':')\n",
    "        if len(string) >= 2:\n",
    "            return string[0], string[1]\n",
    "        else:\n",
    "            return s, None\n",
    "    except ValueError:\n",
    "        return s, None\n"
   ]
  },
  {
   "cell_type": "code",
   "execution_count": null,
   "metadata": {},
   "outputs": [],
   "source": [
    "import requests\n",
    "from bs4 import BeautifulSoup\n",
    "\n",
    "links = []\n",
    "\n",
    "for page_number in range(2, 59):\n",
    "    url = f\"https://bepmina.vn/mon-viet/page/{page_number}\"\n",
    "\n",
    "    try:\n",
    "        response = requests.get(url)\n",
    "        response.raise_for_status()  \n",
    "\n",
    "        webpage = BeautifulSoup(response.text, 'html.parser')\n",
    "        content = webpage.find_all('a', class_=\"more-link\")\n",
    "\n",
    "        for link in content:\n",
    "            links.append(link.get('href'))\n",
    "\n",
    "    except requests.exceptions.RequestException as e:\n",
    "        print(f\"Error encountered for page {page_number}: {e}\")\n",
    "    print(page_number)\n",
    "\n",
    "dump_links_json(links)\n"
   ]
  },
  {
   "cell_type": "code",
   "execution_count": null,
   "metadata": {},
   "outputs": [],
   "source": [
    "with open('./group-project/links.json','r',encoding='utf-8') as f:\n",
    "    data = js.load(f)"
   ]
  },
  {
   "cell_type": "code",
   "execution_count": null,
   "metadata": {},
   "outputs": [],
   "source": [
    "for dish in data['link']:\n",
    "    url = dish\n",
    "    title = str()\n",
    "    ingredients = []\n",
    "    quantities = []\n",
    "    error_links = []\n",
    "    try:\n",
    "        response = requests.get(url)\n",
    "        response.raise_for_status()\n",
    "\n",
    "        webpage = BeautifulSoup(response.text, 'html.parser')\n",
    "        title = (webpage.find('h1').get_text())\n",
    "        ul_tags = webpage.find_all('ul',class_=\"ingredients-list\")\n",
    "        for ul_tag in ul_tags:\n",
    "            li_tags = ul_tag.find_all('li')\n",
    "            for i in li_tags:\n",
    "                string = i.get_text()\n",
    "                ingredient, quantity = split_data(string)\n",
    "                ingredients.append(ingredient)\n",
    "                quantities.append(quantity)\n",
    "    except requests.exceptions.RequestException as e:\n",
    "        print(f\"Error encountered for page {url}: {e}\")\n",
    "    dump_dish_json(title,ingredients,quantities)"
   ]
  }
 ],
 "metadata": {
  "kernelspec": {
   "display_name": "Python 3",
   "language": "python",
   "name": "python3"
  },
  "language_info": {
   "codemirror_mode": {
    "name": "ipython",
    "version": 3
   },
   "file_extension": ".py",
   "mimetype": "text/x-python",
   "name": "python",
   "nbconvert_exporter": "python",
   "pygments_lexer": "ipython3",
   "version": "3.11.7"
  }
 },
 "nbformat": 4,
 "nbformat_minor": 2
}
